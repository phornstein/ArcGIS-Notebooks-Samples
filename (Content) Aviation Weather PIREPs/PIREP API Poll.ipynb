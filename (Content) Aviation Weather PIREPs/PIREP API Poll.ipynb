{
 "cells": [
  {
   "cell_type": "raw",
   "id": "a8d71f7b",
   "metadata": {},
   "source": [
    "Title: AviationWeather.gov Experimental PIREP API pull\n",
    "Author: Parker Hornstein, phornstein@esri.com\n",
    "Date: March, 2023\n",
    "Version: 1.0\n",
    "Requires: ArcGIS Notebooks Standard Runtime\n",
    "Restrictions: n/a\n",
    "\n",
    "Copyright © 2023 Esri\n",
    "All rights reserved under the copyright laws of the United States and applicable international \n",
    "laws, treaties, and conventions. You may freely redistribute and use this sample code, with or \n",
    "without modification, provided you include the original copyright notice and use restrictions.\n",
    "Disclaimer: THE SAMPLE CODE IS PROVIDED \"AS IS\" AND ANY EXPRESS OR IMPLIED WARRANTIES, \n",
    "INCLUDING THE IMPLIED WARRANTIES OF MERCHANTABILITY AND FITNESS FOR A PARTICULAR PURPOSE ARE \n",
    "DISCLAIMED. IN NO EVENT SHALL ESRI OR CONTRIBUTORS BE LIABLE FOR ANY DIRECT, INDIRECT, INCIDENTAL, \n",
    "SPECIAL, EXEMPLARY, OR CONSEQUENTIAL DAMAGES (INCLUDING, BUT NOT LIMITED TO, PROCUREMENT OF \n",
    "SUBSTITUTE GOODS OR SERVICES; LOSS OF USE, DATA, OR PROFITS; OR BUSINESS INTERRUPTION) SUSTAINED BY \n",
    "YOU OR A THIRD PARTY, HOWEVER CAUSED AND ON ANY THEORY OF LIABILITY, WHETHER IN CONTRACT, STRICT \n",
    "LIABILITY, OR TORT ARISING IN ANY WAY OUT OF THE USE OF THIS SAMPLE CODE, EVEN IF ADVISED OF THE \n",
    "POSSIBILITY OF SUCH DAMAGE.\n",
    "Esri\n",
    "Attn: Contracts and Legal Services Department\n",
    "380 New York Street\n",
    "Redlands, California, 92373-8100 USA\n",
    "email: contracts@esri.com"
   ]
  },
  {
   "cell_type": "code",
   "execution_count": null,
   "id": "04d14778",
   "metadata": {
    "execution": {
     "iopub.execute_input": "2023-03-03T16:00:18.549641Z",
     "iopub.status.busy": "2023-03-03T16:00:18.548557Z",
     "iopub.status.idle": "2023-03-03T16:00:18.554350Z",
     "shell.execute_reply": "2023-03-03T16:00:18.553512Z"
    },
    "papermill": {
     "duration": 0.047167,
     "end_time": "2023-03-03T16:00:18.554658",
     "exception": false,
     "start_time": "2023-03-03T16:00:18.507491",
     "status": "completed"
    },
    "tags": []
   },
   "outputs": [],
   "source": [
    "'''User Parameters'''\n",
    "RETENTION_TIME = 6 #hours\n",
    "PIREP_LYR_ID = \"<GUID FOR PIREP LAYER>\"\n",
    "UPDATE_TIME = 1 #hours"
   ]
  },
  {
   "cell_type": "code",
   "execution_count": null,
   "id": "a2550174",
   "metadata": {
    "execution": {
     "iopub.execute_input": "2023-03-03T16:00:18.623011Z",
     "iopub.status.busy": "2023-03-03T16:00:18.622042Z",
     "iopub.status.idle": "2023-03-03T16:00:30.298858Z",
     "shell.execute_reply": "2023-03-03T16:00:30.297952Z"
    },
    "papermill": {
     "duration": 11.72632,
     "end_time": "2023-03-03T16:00:30.299167",
     "exception": false,
     "start_time": "2023-03-03T16:00:18.572847",
     "status": "completed"
    },
    "tags": []
   },
   "outputs": [],
   "source": [
    "import requests, json\n",
    "from datetime import datetime as dt, timedelta\n",
    "from arcgis.gis import GIS\n",
    "from arcgis.geometry import Point\n",
    "from arcgis.features import Feature"
   ]
  },
  {
   "cell_type": "code",
   "execution_count": null,
   "id": "3eed230e",
   "metadata": {
    "execution": {
     "iopub.execute_input": "2023-03-03T16:00:30.348934Z",
     "iopub.status.busy": "2023-03-03T16:00:30.347848Z",
     "iopub.status.idle": "2023-03-03T16:00:31.585624Z",
     "shell.execute_reply": "2023-03-03T16:00:31.584770Z"
    },
    "papermill": {
     "duration": 1.264707,
     "end_time": "2023-03-03T16:00:31.585912",
     "exception": false,
     "start_time": "2023-03-03T16:00:30.321205",
     "status": "completed"
    },
    "tags": []
   },
   "outputs": [],
   "source": [
    "gis = GIS('home')"
   ]
  },
  {
   "cell_type": "code",
   "execution_count": null,
   "id": "5c1bf040",
   "metadata": {},
   "outputs": [],
   "source": [
    "'''Query URL to Aviation Weather BETA'''\n",
    "url = r'https://beta.aviationweather.gov/cgi-bin/data/pirep.php?&format=decoded&age={}'.format(UPDATE_TIME)"
   ]
  },
  {
   "cell_type": "code",
   "execution_count": null,
   "id": "cc4bbf41",
   "metadata": {
    "execution": {
     "iopub.execute_input": "2023-03-03T16:00:31.634828Z",
     "iopub.status.busy": "2023-03-03T16:00:31.633841Z",
     "iopub.status.idle": "2023-03-03T16:00:31.779156Z",
     "shell.execute_reply": "2023-03-03T16:00:31.777892Z"
    },
    "papermill": {
     "duration": 0.173862,
     "end_time": "2023-03-03T16:00:31.779479",
     "exception": false,
     "start_time": "2023-03-03T16:00:31.605617",
     "status": "completed"
    },
    "tags": []
   },
   "outputs": [],
   "source": [
    "'''Retrive PIREPs Layer'''\n",
    "pirep_lyr = gis.content.get(PIREP_LYR_ID).layers[0]\n",
    "pirep_lyr"
   ]
  },
  {
   "cell_type": "code",
   "execution_count": null,
   "id": "f1cfb33c",
   "metadata": {
    "execution": {
     "iopub.execute_input": "2023-03-03T16:00:31.840262Z",
     "iopub.status.busy": "2023-03-03T16:00:31.836060Z",
     "iopub.status.idle": "2023-03-03T16:00:32.077802Z",
     "shell.execute_reply": "2023-03-03T16:00:32.076987Z"
    },
    "papermill": {
     "duration": 0.276254,
     "end_time": "2023-03-03T16:00:32.078076",
     "exception": false,
     "start_time": "2023-03-03T16:00:31.801822",
     "status": "completed"
    },
    "tags": []
   },
   "outputs": [],
   "source": [
    "'''Clean Old PIREPs by timestamp'''\n",
    "retain_time = dt.now() - timedelta(hours=RETENTION_TIME)\n",
    "query = \"dtg < TIMESTAMP '{}'\".format(retain_time.strftime('%Y-%m-%d %H:%M:%S'))\n",
    "result = pirep_lyr.delete_features(where=query)\n",
    "for f in result['deleteResults']:\n",
    "    if f['success'] is False:\n",
    "        print(f)"
   ]
  },
  {
   "cell_type": "code",
   "execution_count": null,
   "id": "8899f23d",
   "metadata": {
    "execution": {
     "iopub.execute_input": "2023-03-03T16:00:32.547406Z",
     "iopub.status.busy": "2023-03-03T16:00:32.546292Z",
     "iopub.status.idle": "2023-03-03T16:00:32.558573Z",
     "shell.execute_reply": "2023-03-03T16:00:32.558029Z"
    },
    "papermill": {
     "duration": 0.051931,
     "end_time": "2023-03-03T16:00:32.558763",
     "exception": false,
     "start_time": "2023-03-03T16:00:32.506832",
     "status": "completed"
    },
    "tags": []
   },
   "outputs": [],
   "source": [
    "class PIREP():\n",
    "    '''Class for handling manipulation of PIREP info'''\n",
    "    def __init__(self):\n",
    "        self.type = None\n",
    "        self.priority = None\n",
    "        self.location = None\n",
    "        self.dtg = None\n",
    "        self.retrievedtime = None\n",
    "        self.flightlevel = None\n",
    "        self.aircrafttype = None\n",
    "        self.skycover = None\n",
    "        self.temperature = None\n",
    "        self.winddirection = None\n",
    "        self.windspeed = None\n",
    "        self.turbulence = None\n",
    "        self.icing = None\n",
    "        self.remarks = None\n",
    "        self.weather = None\n",
    "        self.visibility = None\n",
    "        self.text = None\n",
    "        \n",
    "    @staticmethod\n",
    "    def _splitLine(line):\n",
    "        '''splits text formated line at : '''\n",
    "        try:\n",
    "            return line.split(': ')[1].strip()\n",
    "        except:\n",
    "            return None\n",
    "    \n",
    "    @staticmethod\n",
    "    def _getRemarks(line):\n",
    "        '''Returns plain text of Remarks or None if no Remarks'''\n",
    "        splt = line.split('/')\n",
    "        for l in splt:\n",
    "            if l[:2] == 'RM':\n",
    "                return l[3:]\n",
    "        return None\n",
    "    \n",
    "    @staticmethod\n",
    "    def _parseLocation(line):\n",
    "        '''Returns lat,lon as comma delimited pair'''\n",
    "        loc = PIREP._splitLine(line)\n",
    "        loc = loc.replace('latitude','')\\\n",
    "                .replace('longitude','')\\\n",
    "                .replace(' ','')\n",
    "        return loc\n",
    "        \n",
    "    @staticmethod\n",
    "    def _parseFlightLevel(line):\n",
    "        '''Parses Flight Level and converts to numerical feet'''\n",
    "        fl = PIREP._splitLine(line)\n",
    "        fl = fl.split(' ')[0]\n",
    "        return int(fl)*100\n",
    "    \n",
    "    @staticmethod\n",
    "    def _parseDTG(line):\n",
    "        '''parses message time and return DateTime object'''\n",
    "        dtg = line.split(' at ')[1]\n",
    "        return dt.strptime(dtg,'%H%M %Z %d %b %Y')\n",
    "\n",
    "    @staticmethod\n",
    "    def _parseTemp(line):\n",
    "        '''Parses temperature and returns a numerical value in celsium'''\n",
    "        temp = PIREP._splitLine(line)\n",
    "        return int(temp[:-1])\n",
    "    \n",
    "    def _parseWinds(self,line):\n",
    "        '''\n",
    "        Parses wind vector and updates direction and speed \n",
    "        attributes as numerical values\n",
    "        '''\n",
    "        wnd = self._splitLine(line)\n",
    "        if not wnd is None:\n",
    "            splt = wnd.split(' ')\n",
    "            self.winddirection = int(splt[0])\n",
    "            spd = splt[2][:-3]\n",
    "            self.windspeed = int(spd)\n",
    "    \n",
    "    def _getPriority(self):\n",
    "        '''Converts PIREP priority to plain text'''\n",
    "        if self.type == 'PIREP':\n",
    "            header = self.text.split('/')[0]\n",
    "            pri = header.split(' ')[1].strip()\n",
    "            if pri == 'UA':\n",
    "                self.priority = 'ROUTINE'\n",
    "            else:\n",
    "                self.priority = 'URGENT'\n",
    "        else:\n",
    "            self.priority = None       \n",
    "        \n",
    "    @classmethod\n",
    "    def parseReport(cls,lines,retreived_time):\n",
    "        '''class method to convert list of PIREP lines into PIREP Object'''\n",
    "        data = cls()\n",
    "        data.retrievedtime = retreived_time\n",
    "        data.text = lines[0].split(': ')[1]\n",
    "        data.remarks = data._getRemarks(data.text)\n",
    "        data.type = lines[0][:5]\n",
    "        data._getPriority()\n",
    "        \n",
    "        for line in lines[1:]:\n",
    "            line = line.strip()\n",
    "            if line.startswith('Observed'):\n",
    "                data.dtg = data._parseDTG(line)\n",
    "            elif line.startswith('Aircraft'):\n",
    "                data.aircrafttype = data._splitLine(line)\n",
    "            elif line.startswith('Location'):\n",
    "                data.location = data._parseLocation(line)\n",
    "            elif line.startswith('Flight level'):\n",
    "                data.flightlevel = data._parseFlightLevel(line)\n",
    "            elif line.startswith('Turbulence'):\n",
    "                data.turbulence = data._splitLine(line)\n",
    "            elif line.startswith('Skies'):\n",
    "                data.skycover = data._splitLine(line)\n",
    "            elif line.startswith('Temperature'):\n",
    "                data.temperature = data._parseTemp(line)\n",
    "            elif line.startswith('Winds'):\n",
    "                data._parseWinds(line)\n",
    "            elif line.startswith('Icing'):\n",
    "                data.icing = data._splitLine(line)\n",
    "            elif line.startswith('Weather'):\n",
    "                data.weather = data._splitLine(line)\n",
    "            elif line.startswith('Visbility'):\n",
    "                data.visibility = data._splitLine(line)\n",
    "        return data\n",
    "    \n",
    "    def toDict(self):\n",
    "        return self.__dict__\n",
    "    \n",
    "    def getGeometry(self):\n",
    "        if not self.location is None:\n",
    "            lat,lon = self.location.split(',')\n",
    "            pt = Point({\"x\":lon, \"y\":lat, \"spatialReference\":{\"wkid\" : 4326}})\n",
    "            return pt\n",
    "        else:\n",
    "            return None\n",
    "    \n",
    "    def toFeature(self):\n",
    "        pt = self.getGeometry()\n",
    "        attr = self.toDict()\n",
    "        if not pt is None:\n",
    "            geom = json.loads(pt.JSON)\n",
    "        else:\n",
    "            geom = None\n",
    "        return Feature(geom,attr)\n",
    "        "
   ]
  },
  {
   "cell_type": "code",
   "execution_count": null,
   "id": "db323827",
   "metadata": {
    "execution": {
     "iopub.execute_input": "2023-03-03T16:00:32.160857Z",
     "iopub.status.busy": "2023-03-03T16:00:32.159804Z",
     "iopub.status.idle": "2023-03-03T16:00:32.412903Z",
     "shell.execute_reply": "2023-03-03T16:00:32.412058Z"
    },
    "papermill": {
     "duration": 0.285696,
     "end_time": "2023-03-03T16:00:32.413179",
     "exception": false,
     "start_time": "2023-03-03T16:00:32.127483",
     "status": "completed"
    },
    "tags": []
   },
   "outputs": [],
   "source": [
    "'''get PIREP data'''\n",
    "received = dt.now() #stored retrieved time for data custody\n",
    "data = requests.get(url)\n",
    "lines = data.text.split('\\n') #split response by line break"
   ]
  },
  {
   "cell_type": "code",
   "execution_count": null,
   "id": "609f54ec",
   "metadata": {
    "execution": {
     "iopub.execute_input": "2023-03-03T16:00:32.593869Z",
     "iopub.status.busy": "2023-03-03T16:00:32.591362Z",
     "iopub.status.idle": "2023-03-03T16:00:32.600691Z",
     "shell.execute_reply": "2023-03-03T16:00:32.599947Z"
    },
    "papermill": {
     "duration": 0.030308,
     "end_time": "2023-03-03T16:00:32.600882",
     "exception": false,
     "start_time": "2023-03-03T16:00:32.570574",
     "status": "completed"
    },
    "tags": []
   },
   "outputs": [],
   "source": [
    "'''Group lines into all lines for one message'''\n",
    "messages = []\n",
    "message_lines = []\n",
    "for line in lines:\n",
    "    if line[:10] in ['PIREP Text','AIREP Text']: #check for both PIREP and AIREPs\n",
    "        if len(message_lines): messages.append(message_lines)\n",
    "        message_lines = [line]\n",
    "    else:\n",
    "        message_lines.append(line)"
   ]
  },
  {
   "cell_type": "code",
   "execution_count": null,
   "id": "79f4b954",
   "metadata": {
    "execution": {
     "iopub.execute_input": "2023-03-03T16:00:32.980933Z",
     "iopub.status.busy": "2023-03-03T16:00:32.642442Z",
     "iopub.status.idle": "2023-03-03T16:00:48.525113Z",
     "shell.execute_reply": "2023-03-03T16:00:48.523922Z"
    },
    "papermill": {
     "duration": 15.906338,
     "end_time": "2023-03-03T16:00:48.525475",
     "exception": false,
     "start_time": "2023-03-03T16:00:32.619137",
     "status": "completed"
    },
    "tags": []
   },
   "outputs": [],
   "source": [
    "'''Parse messages and update feature layer'''\n",
    "pireps = []\n",
    "for m in messages:\n",
    "    p = PIREP.parseReport(m, received)\n",
    "    try:\n",
    "        pirep_lyr.edit_features(adds=[p.toFeature()])\n",
    "    except Exception as e:\n",
    "        print(str(e))"
   ]
  }
 ],
 "metadata": {
  "esriNotebookRuntime": {
   "notebookRuntimeName": "ArcGIS Notebook Python 3 Advanced",
   "notebookRuntimeVersion": "7.0"
  },
  "kernelspec": {
   "display_name": "Python 3",
   "language": "python",
   "name": "python3"
  },
  "language_info": {
   "codemirror_mode": {
    "name": "ipython",
    "version": 3
   },
   "file_extension": ".py",
   "mimetype": "text/x-python",
   "name": "python",
   "nbconvert_exporter": "python",
   "pygments_lexer": "ipython3",
   "version": "3.9.11"
  },
  "papermill": {
   "default_parameters": {},
   "duration": 34.346683,
   "end_time": "2023-03-03T16:00:49.964875",
   "environment_variables": {},
   "exception": null,
   "input_path": "/arcgis/home/.tasks/jc078e922-5c4d-4ed3-93a3-96918abd092f/70e4c28c396643ccb4c6f36643fb322a.ipynb",
   "output_path": "/arcgis/home/.tasks/jc078e922-5c4d-4ed3-93a3-96918abd092f/output.ipynb",
   "start_time": "2023-03-03T16:00:15.618192",
   "version": "2.3.3"
  },
  "vscode": {
   "interpreter": {
    "hash": "ce21b655b4d6c9e397d5ad93d5666c623f49909f6d0cc2f72076dafcf1b3ecfb"
   }
  }
 },
 "nbformat": 4,
 "nbformat_minor": 5
}
