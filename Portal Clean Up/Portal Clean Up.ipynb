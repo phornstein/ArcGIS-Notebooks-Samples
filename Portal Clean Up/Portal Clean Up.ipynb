{
 "cells": [
  {
   "cell_type": "markdown",
   "metadata": {},
   "source": [
    "## Run this cell to connect to your GIS and get started:"
   ]
  },
  {
   "cell_type": "code",
   "execution_count": null,
   "metadata": {},
   "outputs": [],
   "source": [
    "'''''''''''''''''''''''''''''''''''''''''''''''''''''''''''''''''\n",
    "# @Title: Portal Cleanup Notebook\n",
    "#\n",
    "# @Purpose: this notebook is a sample of how the ArcGIS Python\n",
    "#    API can be used to adminster a portal. Specifically, this\n",
    "#    notebook automates the process of finding items tagged as\n",
    "#    TEST and by finding Inactive Users\n",
    "#\n",
    "# @Creator: phornstein@esri.com\n",
    "# @Date: March 2021\n",
    "#\n",
    "# @Versions: ArcGIS Python API v1.8.4\n",
    "#\n",
    "# @License: See end of notebook\n",
    "'''''''''''''''''''''''''''''''''''''''''''''''''''''''''''''''''\n",
    "\n",
    "import time\n",
    "import requests\n",
    "import json\n",
    "import warnings\n",
    "from datetime import datetime as dt\n",
    "from datetime import timedelta\n",
    "from arcgis.gis import GIS, UserManager\n",
    "import pandas as pd\n",
    "\n",
    "gis = GIS(\"home\")"
   ]
  },
  {
   "cell_type": "markdown",
   "metadata": {},
   "source": [
    "## Get Test Items"
   ]
  },
  {
   "cell_type": "code",
   "execution_count": null,
   "metadata": {},
   "outputs": [],
   "source": [
    "'''\n",
    "Search the entire portal for any item with the word\n",
    "# test in the name or tags\n",
    "#\n",
    "# For each \"test item\" found, check to only get items \n",
    "# with test as a tag and then add the item, tags, \n",
    "# user, and user email to a list for processing\n",
    "'''\n",
    "tag_to_delete = 'test' #the tag to search for and delete, this can be anything\n",
    "\n",
    "def getItemsByTag(tag_to_search_for):\n",
    "    '''\n",
    "    Searchs Portal for all items with a specific tag\n",
    "    \n",
    "    Parameters\n",
    "    ----------\n",
    "    tag_to_delete : str\n",
    "        The tag to search for\n",
    "    \n",
    "    Returns\n",
    "    -------\n",
    "    Pandas data frame with information on each item with a matching tag\n",
    "    '''\n",
    "    results = gis.content.search(tag_to_search_for)\n",
    "    print('Items matching \\'{}\\''.format(tag_to_search_for))\n",
    "    print('_'*125)\n",
    "    items = [print(\"ITEM: {0:50} | {1:25} | OWNER: {2:30}|\".format(r.title[:50],r.type[:25],r.owner)) for r in results]\n",
    "    print('_'*125)\n",
    "\n",
    "    items_to_delete = []\n",
    "    for item in results:\n",
    "        for tag in item.tags:\n",
    "            if 'test' == tag.lower():\n",
    "                usr = gis.users.search(query='username:{}'.format(item.owner))[0]\n",
    "                report = {'item':item.title,\n",
    "                         'name':usr.fullName,\n",
    "                         'tags':', '.join(item.tags),\n",
    "                         'email':usr.email}\n",
    "                items_to_delete.append(report)\n",
    "    items_df = pd.DataFrame.from_dict(items_to_delete)\n",
    "\n",
    "    print('\\n\\nItems tagged with \\'{}\\''.format(tag_to_search_for))\n",
    "    print('_'*125)\n",
    "    items = [print(\"ITEM: {0:50} | TAGS: {1:25} | OWNER: {2:25}|\".format(i['item'][:50],i['tags'][:25],i['name'][:25],)) for i in items_to_delete]\n",
    "    print('_'*125)\n",
    "    return items_df\n",
    "\n",
    "items_df = getItemsByTag(tag_to_delete)"
   ]
  },
  {
   "cell_type": "markdown",
   "metadata": {},
   "source": [
    "## Get Inactive Users"
   ]
  },
  {
   "cell_type": "code",
   "execution_count": null,
   "metadata": {
    "scrolled": true
   },
   "outputs": [],
   "source": [
    "'''\n",
    "# Search portal using UserManager to get all users\n",
    "#\n",
    "# Use datetime.timedelta to check the last log in of each\n",
    "# portal user and see if it longer than the tlate time. \n",
    "# tlate being the maximum number of days without login before\n",
    "# a user is considered inactive.\n",
    "#\n",
    "# Add all inactive users to a list for with necessary contact info\n",
    "'''\n",
    "tlate_days = 31 #the number of days since last login before notification\n",
    "\n",
    "def getInactiveUsers(tlate_days):\n",
    "    '''\n",
    "    Find users who have not logged in to the Portal in a defined time\n",
    "    \n",
    "    Parameters\n",
    "    ----------\n",
    "    tlate_days : int\n",
    "        Number of days without activity to be considered inactive\n",
    "    \n",
    "    Returns\n",
    "    -------\n",
    "    Pandas data frame with information on each inactive user\n",
    "    '''\n",
    "    user_manager = UserManager(gis)\n",
    "    num_users = user_manager.counts('user_type', as_df=False)[0]['count']\n",
    "    users = gis.users.search(query=None, max_users=num_users)\n",
    "    today = dt.now()\n",
    "    tlate_time = today - timedelta(days = tlate_days)\n",
    "\n",
    "    tlate_users = []\n",
    "    for user in users:\n",
    "        last_login = dt.fromtimestamp(int(user.lastLogin/1000))\n",
    "        if last_login:\n",
    "            login_delta = today - last_login\n",
    "            if login_delta.days > tlate_days:\n",
    "                report = {'name':user.fullName,\n",
    "                          'username':user.username,\n",
    "                         'tlate':login_delta.days,\n",
    "                         'lastLogin':dt.strftime(last_login,'%Y-%m-%d %H:%M:%S'),\n",
    "                         'email':user.email,\n",
    "                         'userLevel':user.level,\n",
    "                         'userRole':user.role}\n",
    "                tlate_users.append(report)\n",
    "\n",
    "    return pd.DataFrame.from_dict(tlate_users)\n",
    "\n",
    "users_df = getInactiveUsers(tlate_days)\n",
    "users_df"
   ]
  },
  {
   "cell_type": "markdown",
   "metadata": {},
   "source": [
    "## Send Notifications"
   ]
  },
  {
   "cell_type": "code",
   "execution_count": null,
   "metadata": {},
   "outputs": [],
   "source": [
    "'''\n",
    "# Rest URL to Geoevent server which will broker email notifications\n",
    "# For the purpose of this sample a geoevent server is used to \n",
    "# automate output emails. A python SMTP package can be used in exchange\n",
    "'''\n",
    "geoevent_url = '<GEOEVENT REST URL'"
   ]
  },
  {
   "cell_type": "code",
   "execution_count": null,
   "metadata": {},
   "outputs": [],
   "source": [
    "def postToGeoevent(jsonData,geoeventRestURL):\n",
    "    '''\n",
    "    Posts JSON payload to Geoevent Rest connector\n",
    "    \n",
    "    Parameters\n",
    "    ----------\n",
    "    jsonData : dict\n",
    "        The formated data to be sent to geoevent. Dictionary keys\n",
    "        should match the input geoevent definition\n",
    "        \n",
    "    geoeventRestURL : str\n",
    "        A string of the Geoevent Rest URL the data will be published to\n",
    "    '''\n",
    "    warnings.filterwarnings(\"ignore\") #ignore ssl cert warnings \n",
    "    headers = {'Content-type':'application/json', 'Accept':'text/plain'} #standard post headers for geoevent\n",
    "    try:\n",
    "        response = requests.post(geoeventRestURL, data=json.dumps(jsonData),headers=headers, verify=False)\n",
    "    except:\n",
    "        print('Failed',jsonData)"
   ]
  },
  {
   "cell_type": "code",
   "execution_count": null,
   "metadata": {},
   "outputs": [],
   "source": [
    "'''\n",
    "# Create Item deletion Alerts\n",
    "'''\n",
    "\n",
    "def generateDeleteMessage(row):\n",
    "    message = \\\n",
    "    '''{},\n",
    "    \n",
    "    The item below will be deleted from the Defense Portal in 24 hours.\n",
    "    \n",
    "    Reason: tagged with \\'test\\'\n",
    "    Item: {}\n",
    "    Item Tags: {}\n",
    "    \n",
    "    To prevent this item from being deleted please change the tags.\n",
    "    '''.format(row['name'],row['item'],row['tags'])\n",
    "    output = {'email':row['email'],\n",
    "             'subject':'ACTION: Items to be deleted',\n",
    "             'message':message}\n",
    "    postToGeoevent(output,geoevent_url)\n",
    "\n",
    "    \n",
    "delete_df= items_df.apply(generateDeleteMessage,axis=1)\n",
    "print('{} deletion emails sent.'.format(len(delete_df.index)))"
   ]
  },
  {
   "cell_type": "code",
   "execution_count": null,
   "metadata": {},
   "outputs": [],
   "source": [
    "'''\n",
    "# Create inactive user Alerts\n",
    "'''\n",
    "def generateInactiveUserMessage(row):\n",
    "    message = \\\n",
    "    '''{},\n",
    "    \n",
    "    Our records show that you have not logged into the GC Defense Portal in {} days. \n",
    "    Your last login was on {}.\n",
    "    You are currently assigned the permissions -> User Level: {} | User Role: {}\n",
    "    \n",
    "    If you do not log in within the next 24 hours your persission will be set to User Level: 1 | User Role: Viewer\n",
    "    \n",
    "    If you have not logged into the Portal in over 60 days your account will be set to inactive.\n",
    "    \n",
    "    Portal URL: https://defense.esri.com/portal/home/\n",
    "    '''.format(row['name'],row['tlate'],row['lastLogin'],row['userLevel'],row['userRole'])\n",
    "    output = {'subject':'ACTION: Inactive User Alert',\n",
    "             'email':row['email'],\n",
    "             'message':message}\n",
    "    postToGeoevent(output,geoevent_url)\n",
    "    \n",
    "inactive_users_df = users_df.apply(generateInactiveUserMessage,axis=1)\n",
    "print('{} inactive user emails sent.'.format(len(inactive_users_df.index)))"
   ]
  },
  {
   "cell_type": "code",
   "execution_count": null,
   "metadata": {},
   "outputs": [],
   "source": [
    "'''\n",
    "# Wait 24 hours before proceeding\n",
    "'''\n",
    "time.sleep(86400) #wait 24 hours before executing deletions"
   ]
  },
  {
   "cell_type": "markdown",
   "metadata": {},
   "source": [
    "## Run Deletions"
   ]
  },
  {
   "cell_type": "code",
   "execution_count": null,
   "metadata": {},
   "outputs": [],
   "source": [
    "'''\n",
    "# Check the portal again to get items still tagged with test\n",
    "'''\n",
    "items_df_2 = getItemsByTag(tag_to_delete)"
   ]
  },
  {
   "cell_type": "code",
   "execution_count": null,
   "metadata": {},
   "outputs": [],
   "source": [
    "'''\n",
    "# Use pandas merge inner join to find the differnce of the \n",
    "# items to delete from 24 hours prior and current time\n",
    "'''\n",
    "items_merge = items_df.merge(items_df_2,how='inner',left_on='item',right_on='item')\n",
    "items_merge"
   ]
  },
  {
   "cell_type": "code",
   "execution_count": null,
   "metadata": {},
   "outputs": [],
   "source": [
    "'''\n",
    "# Delete all items tagged with test. Then run search again\n",
    "# to confirm all items have been removed\n",
    "'''\n",
    "items_not_deleted = []\n",
    "def deleteItem(row):\n",
    "    try:\n",
    "        items = gis.content.search(row['item'])\n",
    "        for item in items:\n",
    "            item.delete(force=True)\n",
    "    except Exception as e:\n",
    "        items_not_deleted.append('ITEM: {} | OWNER: {} | {}'.format(row['item'],row['name_x'],e))\n",
    "        print('ITEM: {} | OWNER: {} | {}'.format(row['item'],row['name_x'],e))\n",
    "        \n",
    "items_merge.apply(deleteItem,axis=1)\n",
    "remaining_items_to_delete = getItemsByTag(tag_to_delete)"
   ]
  },
  {
   "cell_type": "markdown",
   "metadata": {},
   "source": [
    "## Downgrade Inactive Users"
   ]
  },
  {
   "cell_type": "code",
   "execution_count": null,
   "metadata": {},
   "outputs": [],
   "source": [
    "'''\n",
    "# Check for inactive users again to look for change in activity\n",
    "'''\n",
    "users_df_2 = getInactiveUsers(tlate_days)\n",
    "users_df_2"
   ]
  },
  {
   "cell_type": "code",
   "execution_count": null,
   "metadata": {},
   "outputs": [],
   "source": [
    "'''\n",
    "# Use pandas merge inner join to find the differnce of the \n",
    "# items to delete from 24 hours prior and current time\n",
    "'''\n",
    "users_merge = users_df.merge(users_df_2,how='inner',left_on='name',right_on='name')\n",
    "users_merge"
   ]
  },
  {
   "cell_type": "code",
   "execution_count": null,
   "metadata": {},
   "outputs": [],
   "source": [
    "'''\n",
    "# Update or disable all tlate users. Check for inactive\n",
    "# users again to confirm all have been removed\n",
    "'''\n",
    "users_not_downgraded = []\n",
    "def updateInactiveUsers(row):\n",
    "    try:\n",
    "        usr = gis.users.search(query='username:{}'.format(row['username_x']))[0]\n",
    "        usr.update_license_type('Viewer')\n",
    "        usr.update_level(1)\n",
    "        if row['tlate_x'] > 60:\n",
    "            usr.disable()\n",
    "    except Exception as e:\n",
    "        users_not_downgraded.append('USER: {} | INACTIVE DAYS: {} | {}'.format(row['username_x'],row['tlate_x'],e))\n",
    "        \n",
    "users_merge = users_merge.apply(updateInactiveUsers,axis=1)\n",
    "remaining_inactive_users = getInactiveUsers(tlate_days)\n",
    "remaining_inactive_users"
   ]
  },
  {
   "cell_type": "markdown",
   "metadata": {},
   "source": [
    "## Generate Admin Report"
   ]
  },
  {
   "cell_type": "code",
   "execution_count": null,
   "metadata": {},
   "outputs": [],
   "source": [
    "'''\n",
    "# Create Admin report\n",
    "'''\n",
    "admin_emails = [('NAME','ADMIN EMAIL')] #list of tuples of admins\n",
    "\n",
    "count_items = len(items_merge.index) #the number of items deleted\n",
    "error_items = '\\n'.join(items_not_deleted) #all items that could not be deleted\n",
    "\n",
    "users = ['USER: {} | INACTIVE DAYS: {}'.format(row[1]['username_x'],row[1]['tlate_x']) for row in users_merge.iterrows()]\n",
    "inactive_users = '\\n'.join(users)\n",
    "error_users = '\\n'.join(users_not_downgraded)\n",
    "\n",
    "for admin in admin_emails:\n",
    "    message = \\\n",
    "    '''{},\n",
    "\n",
    "Below is your weekly Portal Admin report:\n",
    "\n",
    "Items deleted tagged with test: {}\n",
    "_______________________________________________________________\n",
    "\n",
    "There were errors deleting the following items:\n",
    "\n",
    "{}\\n\n",
    "_______________________________________________________________\n",
    "\n",
    "The following users were downgraded or disabled for inactivity:\n",
    "\n",
    "{}\\n\n",
    "_______________________________________________________________\n",
    "\n",
    "There were errors processing the following inactive users:\n",
    "\n",
    "{}\\n\n",
    "_______________________________________________________________\n",
    "\n",
    "Stay classy, Honeybadger!'''.format(admin[0],count_items,error_items,inactive_users,error_users)\n",
    "\n",
    "    data = {'subject':'Portal weekly admin report',\n",
    "           'email':admin[1],\n",
    "           'message':message}\n",
    "    postToGeoevent(data,geoevent_url)\n",
    "print('{} emails sent.'.format(len(admin_emails)))"
   ]
  },
  {
   "cell_type": "markdown",
   "metadata": {},
   "source": [
    "## License"
   ]
  },
  {
   "cell_type": "raw",
   "metadata": {},
   "source": [
    "# '''''''''''''''''''''''''''''''''''''''''''''''''''''''''''''''''\n",
    "#    Copyright © 2022 Esri\n",
    "#\n",
    "#    All rights reserved under the copyright laws of the United States \n",
    "#    and applicable international laws, treaties, and conventions.\n",
    "#    You may freely redistribute and use this sample code, with or \n",
    "#    without modification, provided you include the original copyright \n",
    "#    notice and use restrictions.\n",
    "#\n",
    "#    Disclaimer: THE SAMPLE CODE IS PROVIDED \"AS IS\" AND ANY EXPRESS \n",
    "#    OR IMPLIED WARRANTIES, INCLUDING THE IMPLIED WARRANTIES OF \n",
    "#    MERCHANTABILITY AND FITNESS FOR A PARTICULAR PURPOSE ARE \n",
    "#    DISCLAIMED. IN NO EVENT SHALL ESRI OR CONTRIBUTORS BE LIABLE FOR\n",
    "#    ANY DIRECT, INDIRECT, INCIDENTAL, SPECIAL, EXEMPLARY, OR CONSEQUENTIAL \n",
    "#    DAMAGES (INCLUDING, BUT NOT LIMITED TO, PROCUREMENT OF SUBSTITUTE GOODS \n",
    "#    OR SERVICES; LOSS OF USE, DATA, OR PROFITS; OR BUSINESS INTERRUPTION) \n",
    "#    SUSTAINED BY YOU OR A THIRD PARTY, HOWEVER CAUSED AND ON ANY THEORY OF LIABILITY, \n",
    "#    WHETHER IN CONTRACT, STRICT LIABILITY, OR TORT ARISING IN ANY WAY OUT OF THE USE \n",
    "#    OF THIS SAMPLE CODE, EVEN IF ADVISED OF THE POSSIBILITY OF SUCH DAMAGE.\n",
    "#\n",
    "#    For additional information, contact:\n",
    "#    Esri\n",
    "#    Attn: Contracts and Legal Services Department\n",
    "#    380 New York Street\n",
    "#    Redlands, California, 92373-8100\n",
    "#    USA\n",
    "#    email: contracts@esri.com\n",
    "'''''''''''''''''''''''''''''''''''''''''''''''''''''''''''''''''"
   ]
  }
 ],
 "metadata": {
  "esriNotebookRuntime": {
   "notebookRuntimeName": "ArcGIS Notebook Python 3 Advanced",
   "notebookRuntimeVersion": "4.0"
  },
  "kernelspec": {
   "display_name": "Python 3",
   "language": "python",
   "name": "python3"
  },
  "language_info": {
   "codemirror_mode": {
    "name": "ipython",
    "version": 3
   },
   "file_extension": ".py",
   "mimetype": "text/x-python",
   "name": "python",
   "nbconvert_exporter": "python",
   "pygments_lexer": "ipython3",
   "version": "3.9.11"
  }
 },
 "nbformat": 4,
 "nbformat_minor": 2
}
