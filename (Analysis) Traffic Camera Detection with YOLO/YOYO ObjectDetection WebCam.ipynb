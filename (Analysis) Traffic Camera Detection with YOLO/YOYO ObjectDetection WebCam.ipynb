{
 "cells": [
  {
   "cell_type": "markdown",
   "metadata": {},
   "source": [
    "# Object Detection: Stream of Images (Screen-capture + Webcam Feed)"
   ]
  },
  {
   "cell_type": "markdown",
   "metadata": {},
   "source": [
    "### Imports"
   ]
  },
  {
   "cell_type": "code",
   "execution_count": 7,
   "metadata": {
    "scrolled": true
   },
   "outputs": [],
   "source": [
    "import numpy as np\n",
    "from arcgis.learn import YOLOv3\n",
    "from PIL import ImageGrab\n",
    "import cv2\n",
    "import warnings\n",
    "warnings.filterwarnings('ignore')"
   ]
  },
  {
   "cell_type": "code",
   "execution_count": 8,
   "metadata": {},
   "outputs": [],
   "source": [
    "yolo = YOLOv3()"
   ]
  },
  {
   "cell_type": "code",
   "execution_count": 9,
   "metadata": {
    "scrolled": true
   },
   "outputs": [],
   "source": [
    "while True:            \n",
    "    image_np = np.array(ImageGrab.grab(bbox=(42,46,818,458)))\n",
    "    image_np = cv2.cvtColor(image_np, cv2.COLOR_RGB2BGR)\n",
    "    predictions = yolo.predict(image_np, visualize=False, threshold=0.6)\n",
    "    for i in range(len(predictions[0])):\n",
    "        \n",
    "        label = predictions[1][i] + ' ' + str(round(predictions[2][i] * 100)) + '%'\n",
    "        x1,y1,x2,y2 = (int(predictions[0][i][0]),\n",
    "                        int(predictions[0][i][1]+predictions[0][i][3]),\n",
    "                        int(predictions[0][i][0] + predictions[0][i][2]),\n",
    "                        int(predictions[0][i][1]))\n",
    "        \n",
    "        cv2.rectangle(image_np,(x1-5,y1+5),(x2,y2),(0, 112, 255),3)\n",
    "        cv2.putText(image_np,label,(x1,y1),cv2.FONT_HERSHEY_COMPLEX,1,(0, 112, 255),1)\n",
    "            \n",
    "    cv2.imshow('object detection', cv2.resize(image_np, (776,412), interpolation=cv2.INTER_CUBIC))\n",
    "    if cv2.waitKey(25) & 0xFF == ord('q'):\n",
    "        cv2.destroyAllWindows()\n",
    "        break\n"
   ]
  },
  {
   "cell_type": "code",
   "execution_count": null,
   "metadata": {},
   "outputs": [],
   "source": []
  }
 ],
 "metadata": {
  "anaconda-cloud": {},
  "kernelspec": {
   "display_name": "Python 3",
   "language": "python",
   "name": "python3"
  },
  "language_info": {
   "codemirror_mode": {
    "name": "ipython",
    "version": 3
   },
   "file_extension": ".py",
   "mimetype": "text/x-python",
   "name": "python",
   "nbconvert_exporter": "python",
   "pygments_lexer": "ipython3",
   "version": "3.9.11"
  }
 },
 "nbformat": 4,
 "nbformat_minor": 4
}
