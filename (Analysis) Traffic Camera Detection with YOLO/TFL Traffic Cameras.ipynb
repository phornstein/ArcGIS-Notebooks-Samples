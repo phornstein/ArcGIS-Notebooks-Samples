{
 "cells": [
  {
   "cell_type": "code",
   "execution_count": null,
   "metadata": {
    "execution": {
     "iopub.execute_input": "2022-08-17T12:31:27.017963Z",
     "iopub.status.busy": "2022-08-17T12:31:27.017302Z",
     "iopub.status.idle": "2022-08-17T12:31:27.019835Z",
     "shell.execute_reply": "2022-08-17T12:31:27.019398Z"
    },
    "papermill": {
     "duration": 0.010971,
     "end_time": "2022-08-17T12:31:27.019964",
     "exception": false,
     "start_time": "2022-08-17T12:31:27.008993",
     "status": "completed"
    },
    "tags": []
   },
   "outputs": [],
   "source": [
    "'''install opencv if not already installed to use the yolo3 model'''\n",
    "!pip install opencv-python==4.0.1.24"
   ]
  },
  {
   "cell_type": "code",
   "execution_count": null,
   "metadata": {
    "execution": {
     "iopub.execute_input": "2022-08-17T12:31:27.042754Z",
     "iopub.status.busy": "2022-08-17T12:31:27.04235Z",
     "iopub.status.idle": "2022-08-17T12:32:33.820031Z",
     "shell.execute_reply": "2022-08-17T12:32:33.820353Z"
    },
    "papermill": {
     "duration": 66.786084,
     "end_time": "2022-08-17T12:32:33.820568",
     "exception": false,
     "start_time": "2022-08-17T12:31:27.034484",
     "status": "completed"
    },
    "tags": []
   },
   "outputs": [],
   "source": [
    "import cv2, arcgis, time, imageio, tempfile, shutil, requests\n",
    "import numpy as np\n",
    "from arcgis.learn import YOLOv3\n",
    "import pandas as pd\n",
    "from PIL import Image\n",
    "from io import BytesIO"
   ]
  },
  {
   "cell_type": "code",
   "execution_count": null,
   "metadata": {
    "execution": {
     "iopub.execute_input": "2022-08-17T12:32:33.836245Z",
     "iopub.status.busy": "2022-08-17T12:32:33.835586Z",
     "iopub.status.idle": "2022-08-17T12:32:46.465345Z",
     "shell.execute_reply": "2022-08-17T12:32:46.464902Z"
    },
    "papermill": {
     "duration": 12.638311,
     "end_time": "2022-08-17T12:32:46.465453",
     "exception": false,
     "start_time": "2022-08-17T12:32:33.827142",
     "status": "completed"
    },
    "tags": []
   },
   "outputs": [],
   "source": [
    "'''create a yolo3 model'''\n",
    "yolo = YOLOv3()"
   ]
  },
  {
   "cell_type": "code",
   "execution_count": null,
   "metadata": {
    "execution": {
     "iopub.execute_input": "2022-08-17T12:32:46.484695Z",
     "iopub.status.busy": "2022-08-17T12:32:46.484185Z",
     "iopub.status.idle": "2022-08-17T12:32:47.142958Z",
     "shell.execute_reply": "2022-08-17T12:32:47.142397Z"
    },
    "papermill": {
     "duration": 0.672267,
     "end_time": "2022-08-17T12:32:47.143083",
     "exception": false,
     "start_time": "2022-08-17T12:32:46.470816",
     "status": "completed"
    },
    "scrolled": true,
    "tags": []
   },
   "outputs": [],
   "source": [
    "gis = arcgis.gis.GIS(\"home\")"
   ]
  },
  {
   "cell_type": "code",
   "execution_count": null,
   "metadata": {
    "execution": {
     "iopub.execute_input": "2022-08-17T12:32:47.179232Z",
     "iopub.status.busy": "2022-08-17T12:32:47.17881Z",
     "iopub.status.idle": "2022-08-17T12:32:49.247077Z",
     "shell.execute_reply": "2022-08-17T12:32:49.247436Z"
    },
    "papermill": {
     "duration": 2.097012,
     "end_time": "2022-08-17T12:32:49.247572",
     "exception": false,
     "start_time": "2022-08-17T12:32:47.15056",
     "status": "completed"
    },
    "tags": []
   },
   "outputs": [],
   "source": [
    "'''Get your output detection layer'''\n",
    "TFLTrafficCameras = gis.content.get(\"<PORTAL ITEM ID FOR TDL LAYER>\").layers[0]\n",
    "TFLTrafficCamerasDataFrame = TFLTrafficCameras.query(as_df=True)"
   ]
  },
  {
   "cell_type": "code",
   "execution_count": null,
   "metadata": {
    "execution": {
     "iopub.execute_input": "2022-08-17T12:32:49.272535Z",
     "iopub.status.busy": "2022-08-17T12:32:49.271771Z",
     "iopub.status.idle": "2022-08-17T13:14:02.319176Z",
     "shell.execute_reply": "2022-08-17T13:14:02.318787Z"
    },
    "papermill": {
     "duration": 2473.066227,
     "end_time": "2022-08-17T13:14:02.319286",
     "exception": false,
     "start_time": "2022-08-17T12:32:49.253059",
     "status": "completed"
    },
    "tags": []
   },
   "outputs": [],
   "source": [
    "'''loop through images and get a new image for each camera'''\n",
    "dirpath = tempfile.mkdtemp()\n",
    "for index, row in TFLTrafficCamerasDataFrame.iterrows():\n",
    "    response = requests.get(row['URL']) #request new image frame from the camera using the URL in the feature service\n",
    "    if response.status_code == 200:\n",
    "        image_np = np.array(Image.open(BytesIO(response.content)))\n",
    "        #remove existing attachments from feature\n",
    "        attachmentList = TFLTrafficCameras.attachments.get_list(row['OBJECTID'])\n",
    "        if attachmentList:\n",
    "            for attachment in attachmentList:\n",
    "                TFLTrafficCameras.attachments.delete(row['OBJECTID'],attachment['id'])\n",
    "        try:        \n",
    "            predictions = yolo.predict(image_np, visualize=False, threshold=0.6)\n",
    "            if predictions[0]:\n",
    "                df = pd.DataFrame(np.stack((predictions[1]), axis=-1))\n",
    "                featureSet = TFLTrafficCameras.query(where=\"OBJECTID=\" + str(row['OBJECTID']))\n",
    "                feature_edit = featureSet.features[0]\n",
    "                feature_edit.attributes['Trucks'] = int(df[df[0] == 'truck'].count())\n",
    "                feature_edit.attributes['Buses'] = int(df[df[0] == 'bus'].count())\n",
    "                feature_edit.attributes['Cars'] = int(df[df[0] == 'car'].count())\n",
    "                feature_edit.attributes['Pedestrians'] = int(df[df[0] == 'person'].count())\n",
    "                TFLTrafficCameras.edit_features(updates=[feature_edit])\n",
    "\n",
    "                #add original image as an attachment                           \n",
    "                image_out = imageio.imwrite(dirpath + '/image.jpg', image_np)\n",
    "                TFLTrafficCameras.attachments.add(row['OBJECTID'] , dirpath + '/image.jpg')\n",
    "\n",
    "                #overlay the predictions to the orignal image\n",
    "                for i in range(len(predictions[0])):\n",
    "                    label = predictions[1][i]\n",
    "                    if label in ['car', 'bus', 'truck','person']:\n",
    "                        x1,y1,x2,y2 = (int(predictions[0][i][0]),\n",
    "                               int(predictions[0][i][1]+predictions[0][i][3]),\n",
    "                               int(predictions[0][i][0] + predictions[0][i][2]),\n",
    "                               int(predictions[0][i][1]))\n",
    "                        label = predictions[1][i]\n",
    "                        if label == 'car':                          \n",
    "                            cv2.rectangle(image_np,(x1-5,y1+5),(x2,y2),(0, 112, 255),3)\n",
    "                            cv2.putText(image_np,label,(x1,y1),cv2.FONT_HERSHEY_COMPLEX,0.5,(0, 112, 255),1)\n",
    "                        if label == 'bus':                          \n",
    "                            cv2.rectangle(image_np,(x1-5,y1+5),(x2,y2),(255, 170, 0),3)\n",
    "                            cv2.putText(image_np,label,(x1,y1),cv2.FONT_HERSHEY_COMPLEX,0.5,(255, 170, 0),1)\n",
    "                        if label == 'truck':                          \n",
    "                            cv2.rectangle(image_np,(x1-5,y1+5),(x2,y2),(197, 0, 255),3)\n",
    "                            cv2.putText(image_np,label,(x1,y1),cv2.FONT_HERSHEY_COMPLEX,0.5,(197, 0, 255),1)\n",
    "                        if label == 'person':                          \n",
    "                            cv2.rectangle(image_np,(x1-5,y1+5),(x2,y2),(56, 168, 0),3)\n",
    "                            cv2.putText(image_np,label,(x1,y1),cv2.FONT_HERSHEY_COMPLEX,0.5,(56, 168, 0),1)\n",
    "\n",
    "                #add prediction image as an attachment \n",
    "                image_prediction = imageio.imwrite(dirpath + '/image_predictions.jpg', image_np)\n",
    "                TFLTrafficCameras.attachments.add(row['OBJECTID'] , dirpath + '/image_predictions.jpg')\n",
    "            else:\n",
    "                #no predictions add zeros to all columns                                \n",
    "                featureSet = TFLTrafficCameras.query(where=\"OBJECTID=\" + str(row['OBJECTID']))\n",
    "                feature_edit.attributes['Trucks'] = 0\n",
    "                feature_edit.attributes['Buses'] = 0\n",
    "                feature_edit.attributes['Cars'] = 0\n",
    "                feature_edit.attributes['Pedestrians'] = 0\n",
    "                TFLTrafficCameras.edit_features(updates=[feature_edit])\n",
    "        except:\n",
    "           print(\"An exception occurred\")\n",
    "    #if index > 10:\n",
    "        #break\n",
    "shutil.rmtree(dirpath)"
   ]
  },
  {
   "cell_type": "code",
   "execution_count": null,
   "metadata": {},
   "outputs": [],
   "source": []
  }
 ],
 "metadata": {
  "esriNotebookRuntime": {
   "notebookRuntimeName": "ArcGIS Notebook Python 3 Advanced",
   "notebookRuntimeVersion": "5.0"
  },
  "kernelspec": {
   "display_name": "Python 3.7.11 64-bit ('arcgispro-py3')",
   "language": "python",
   "name": "python3"
  },
  "language_info": {
   "codemirror_mode": {
    "name": "ipython",
    "version": 3
   },
   "file_extension": ".py",
   "mimetype": "text/x-python",
   "name": "python",
   "nbconvert_exporter": "python",
   "pygments_lexer": "ipython3",
   "version": "3.7.11"
  },
  "papermill": {
   "default_parameters": {},
   "duration": 2560.54375,
   "end_time": "2022-08-17T13:14:04.934711",
   "environment_variables": {},
   "exception": null,
   "input_path": "/arcgis/home/.tasks/c8feb39bc8f743b9b3970fd009ea1220/396139b10eae490684bf56188e67f342.ipynb",
   "output_path": "/arcgis/home/.tasks/c8feb39bc8f743b9b3970fd009ea1220/output.ipynb",
   "parameters": {},
   "start_time": "2022-08-17T12:31:24.390961",
   "version": "2.2.0"
  },
  "vscode": {
   "interpreter": {
    "hash": "ce21b655b4d6c9e397d5ad93d5666c623f49909f6d0cc2f72076dafcf1b3ecfb"
   }
  }
 },
 "nbformat": 4,
 "nbformat_minor": 2
}
